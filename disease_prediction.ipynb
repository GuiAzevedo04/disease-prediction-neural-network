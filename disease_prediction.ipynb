{
 "cells": [
  {
   "cell_type": "markdown",
   "metadata": {},
   "source": [
    "# Projeto Final - Introdução às Redes Neurais e Deep Learning\n",
    "\n",
    "Aluno: Guilherme Luiz de Azevedo\n",
    "\n",
    "Matrícula: 202310535\n",
    "\n",
    "Universidade Federal de Lavras - Lavras, MG\n",
    "\n",
    "## Introduçao\n",
    "\n",
    "Este é um projeto onde usaremos redes neurais artificiais para prever doenças a partir de uma série de sintomas. No total são 42 doenças possíveis e 132 sintomas diferentes que seram utilizados para nos ajudar a classificar as doenças.\n",
    "\n",
    "O Dataset Utilizado não é de minha autoria, todos os créditos da organização e criação do mesmo vão para o usuário kaushil268 que disponibilizou o Dataset para uso público.\n",
    "\n",
    "Você pode encontrar tudo sobre o Dataset, inclusive o link de download [aqui](https://www.kaggle.com/datasets/kaushil268/disease-prediction-using-machine-learning):\n",
    "\n",
    "### Sobre o Dataset\n",
    "\n",
    "O Dataset contem 2 arquivos diferentes, \"Testing\" e \"Training\", ambos no formato '.csv', realizaremos o treinamento do nosso modelo no arquivo \"Training\" e depois realizaremos predições em cima dos dados contidos no arquivo \"Testing\" para comprovar a eficacia e acurácia de nosso modelo.\n",
    "\n",
    "O arquivo \"Training\" possui 4921 linhas, ou seja, temos 4921 instâncias diferentes para treinamento, e o arquivo \"Testing\" possui 43 instâncias disponíveis para testarmos nosso modelo."
   ]
  }
 ],
 "metadata": {
  "language_info": {
   "name": "python"
  }
 },
 "nbformat": 4,
 "nbformat_minor": 2
}
